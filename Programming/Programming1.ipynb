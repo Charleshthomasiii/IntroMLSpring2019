{
 "cells": [
  {
   "cell_type": "markdown",
   "metadata": {},
   "source": [
    "# Programming 1: Data, linear regression, linear classification"
   ]
  },
  {
   "cell_type": "markdown",
   "metadata": {},
   "source": [
    "For this first programming session, we will get comfortable with the most popular libraries in python."
   ]
  },
  {
   "cell_type": "markdown",
   "metadata": {},
   "source": [
    "## 1. Warming up/getting data "
   ]
  },
  {
   "cell_type": "markdown",
   "metadata": {},
   "source": [
    "__Exerice 1.1__ Generate a random vector of size $n\\times 2$ representing a list of 2D coordinates in the range $[0,1]\\times [0,1]$ then plot the points using numpy and pyplot"
   ]
  },
  {
   "cell_type": "code",
   "execution_count": 20,
   "metadata": {},
   "outputs": [
    {
     "data": {
      "text/plain": [
       "<matplotlib.collections.PathCollection at 0x21932447160>"
      ]
     },
     "execution_count": 20,
     "metadata": {},
     "output_type": "execute_result"
    },
    {
     "data": {
      "image/png": "[encoded data removed]",
      "text/plain": [
       "<Figure size 432x288 with 1 Axes>"
      ]
     },
     "metadata": {
      "needs_background": "light"
     },
     "output_type": "display_data"
    }
   ],
   "source": [
    "import numpy as np\n",
    "import matplotlib.pyplot as plot\n",
    "x=[]\n",
    "y=[]\n",
    "for t in range(30):\n",
    "    x.append(random.random())\n",
    "    y.append(random.random())\n",
    "plot.scatter(x, y)\n",
    "    \n",
    "\n"
   ]
  },
  {
   "cell_type": "markdown",
   "metadata": {},
   "source": [
    "__Exerice 1.2__ Compute the pariwise distances between the points in __1.1__"
   ]
  },
  {
   "cell_type": "code",
   "execution_count": null,
   "metadata": {
    "collapsed": true
   },
   "outputs": [],
   "source": [
    "# put your code here\n",
    "\n",
    "\n",
    "\n"
   ]
  },
  {
   "cell_type": "markdown",
   "metadata": {},
   "source": [
    "__Exerice 1.3*__ (Getting Data 1) In this third exercise, we will use the \"requests\" library. This library can be used to read/access information from the internet. I.e when you type in \"facebook\" in a google browser, facebook sends html (i.e how to website should look) to the browser, which then displays the html or the page in a pretty way. In fact, given any webpage, you can reveal the html source code by right clicking on the page and then selecting \"Inspect element\" or \"view source\". The \"requests\" library is used to ask servers for information (e.g html code). "
   ]
  },
  {
   "cell_type": "markdown",
   "metadata": {},
   "source": [
    "__1.3.1__ Use the lines below to load the html from the NYTimes webpage "
   ]
  },
  {
   "cell_type": "code",
   "execution_count": null,
   "metadata": {
    "collapsed": true
   },
   "outputs": [],
   "source": [
    "import requests\n",
    "\n",
    "r = requests.get('https://www.nytimes.com/')\n",
    "\n",
    "# we will then use \"BeautifulSoup\" to parse () the html  \n",
    "\n",
    "from bs4 import BeautifulSoup\n",
    "\n",
    "soup = BeautifulSoup(r.text,'html.parser')\n"
   ]
  },
  {
   "cell_type": "markdown",
   "metadata": {},
   "source": [
    "__1.3.2__ Find the html tags that are used to define headlines (hint: look at the \"div class\" tags). Then using the \"findAll\" function from BeautifulSoup, return all the html lines containing the right \"div class\" tag "
   ]
  },
  {
   "cell_type": "code",
   "execution_count": null,
   "metadata": {},
   "outputs": [],
   "source": [
    "# complete the parentheses in order to find all the \n",
    "\n",
    "container = soup.findAll()\n",
    "\n",
    "\"div\",{\"class\":\"css-1j836f9 esl82me3\"}\n",
    "\n",
    "for story_heading in container:\n",
    "\n",
    "    print(story_heading.text)\n"
   ]
  },
  {
   "cell_type": "markdown",
   "metadata": {},
   "source": [
    "__1.3.3*__ As you should see, there is one issue with the lines above. When the healine belongs to one of the articles at the bottom of the page, those lines sometimes include the author. add an additional pruning step that removes the author's name from the text returned by BeautifulSoup."
   ]
  },
  {
   "cell_type": "markdown",
   "metadata": {},
   "source": []
  },
  {
   "cell_type": "code",
   "execution_count": null,
   "metadata": {
    "collapsed": true
   },
   "outputs": [],
   "source": [
    "__1.4__ (Getting Data II) Another way to get some data is to use the NYTimes API\n",
    "\n",
    "\n",
    "\n"
   ]
  },
  {
   "cell_type": "markdown",
   "metadata": {},
   "source": [
    "## 2. Linear regression"
   ]
  },
  {
   "cell_type": "markdown",
   "metadata": {},
   "source": [
    "There are multiple ways to do linear regression. One approach is to compute the solution by solving the linear system as we did during the exercise session. Another one is to use an iterative minimization method such as gradient descent. Finally one can also use existing implementations from e.g. scikit-learn. We will tackle each approach below"
   ]
  },
  {
   "cell_type": "markdown",
   "metadata": {},
   "source": [
    "### 2.1 Simple regression"
   ]
  },
  {
   "cell_type": "markdown",
   "metadata": {},
   "source": [
    "__Exercise 2.1.1__ (Generating data.) start by generating 2D pairs $(x,y)$ of points along a line. Then add a little noise to make the regression problem interesting. I.e your generative model should have the form $(y_i,x_i)$ where $y_i = \\alpha x_i + \\beta + \\epsilon_i$ and $\\epsilon_i$ are independent identically (Gaussian distributed) perturbations. Plot your data using pyplot and numpy"
   ]
  },
  {
   "cell_type": "markdown",
   "metadata": {},
   "source": [
    "__Exercise 2.1.2__ Store the data into matrices $\\boldsymbol X$ and vector $\\boldsymbol y$ as we did in class and compute the solution of your 2D regression problem using the \"inv\" function from linalg. Once you have the coefficients, compare the noisy points with your predictions. (hint check the documentation for the \"scatter\" function) "
   ]
  },
  {
   "cell_type": "code",
   "execution_count": 8,
   "metadata": {
    "scrolled": true
   },
   "outputs": [
    {
     "name": "stdout",
     "output_type": "stream",
     "text": [
      "\n",
      "1.0069618998063636\n",
      "-0.006598854335015236\n",
      "(array([-0.00659885,  1.0069619 ]), array([0.92801973]), 2, array([11.20697599,  2.47824657]))\n"
     ]
    },
    {
     "name": "stderr",
     "output_type": "stream",
     "text": [
      "C:\\Users\\CharlesThomas\\Anaconda3\\lib\\site-packages\\ipykernel_launcher.py:28: FutureWarning: `rcond` parameter will change to the default of machine precision times ``max(M, N)`` where M and N are the input matrix dimensions.\n",
      "To use the future default and silence this warning we advise to pass `rcond=None`, to keep using the old, explicitly pass `rcond=-1`.\n"
     ]
    },
    {
     "data": {
      "text/plain": [
       "[<matplotlib.lines.Line2D at 0x1ddd2e04f60>]"
      ]
     },
     "execution_count": 8,
     "metadata": {},
     "output_type": "execute_result"
    },
    {
     "data": {
      "image/png": "[encoded data removed]",
      "text/plain": [
       "<Figure size 432x288 with 1 Axes>"
      ]
     },
     "metadata": {
      "needs_background": "light"
     },
     "output_type": "display_data"
    }
   ],
   "source": [
    "# Direct inversion\n",
    "from numpy import array\n",
    "from numpy.linalg import inv\n",
    "import numpy as np\n",
    "import matplotlib.pyplot as plot\n",
    "import random\n",
    "\n",
    "x=[]\n",
    "xx=[]\n",
    "y=[]\n",
    "for t in range(100):\n",
    "    x.append(random.random())\n",
    "mu, sigma = 0, 0.1 # mean and standard deviation\n",
    "s = np.random.normal(mu, sigma, 1000)\n",
    "for z in range(100):\n",
    "    y.append(x[z]+s[z])\n",
    "# for z in range(30):\n",
    "# print(x)\n",
    "print()\n",
    "# print(y)\n",
    "plot.scatter(x,y)\n",
    "\n",
    "\n",
    "\n",
    "for g in x:\n",
    "    xx.append([1,g])\n",
    "# print(xx)\n",
    "ans=np.linalg.lstsq(xx,y)\n",
    "\n",
    "c=ans[0][0]\n",
    "m=ans[0][1]\n",
    "print(m)\n",
    "print(c)\n",
    "print(ans)\n",
    "# y=mx+c\n",
    "xxx=[0,1]\n",
    "yyy=[c,m+c]\n",
    "plot.plot(xxx,yyy)\n",
    "# yn = numpy.plotval([m,c])\n",
    "\n",
    "\n",
    "# put your code here"
   ]
  },
  {
   "cell_type": "markdown",
   "metadata": {},
   "source": [
    "__Exercise 2.1.3__ (Bad conditioning and bias/variance) To see what happens when the system is badly conditioned, we will consider a non linear dataset on which will apply a linear regression model based on various degree monomials. Start by generating $(x,y)$ pairs along a sine wave. Take $x$ to be defined as $x = k\\pi/180$ for $k \\in [60,300]$ every $4$ points. Then define your $y$ as $y = \\sin(x) + \\varepsilon(x)$ where $\\varepsilon(x)$ are random i.i.d Gaussian perturbations with mean $0$ and std $0.15$ (hint: use the random.normal function from numpy)\n",
    "\n",
    "__2.1.3.a__ plot your data using pyplot"
   ]
  },
  {
   "cell_type": "markdown",
   "metadata": {},
   "source": [
    "__2.1.3.b__ Store your $x$ and $y$ into vectors. Then write a snippet that generates all powers of your points $x$ up to a degree $d$. "
   ]
  },
  {
   "cell_type": "markdown",
   "metadata": {},
   "source": [
    "__2.1.3.c__ To go faster, instead of deriving the regression model by solving the linear system, we will now use the \"LinearRegression\" implementation from scikit-learn. Check the documentation. Then use this function to derive regression models for monomials up to degree 1,3,6,9,12 and 15. Plot your models on top of the data from 2.1.1. using subplot\n",
    "\n",
    "What can you see? Check the evolution in the value of the regression coefficient. What can you say?"
   ]
  },
  {
   "cell_type": "code",
   "execution_count": 42,
   "metadata": {},
   "outputs": [
    {
     "data": {
      "text/plain": [
       "[<matplotlib.lines.Line2D at 0x1ddd70b06a0>]"
      ]
     },
     "execution_count": 42,
     "metadata": {},
     "output_type": "execute_result"
    },
    {
     "data": {
      "image/png": "[encoded data removed]",
      "text/plain": [
       "<Figure size 432x288 with 1 Axes>"
      ]
     },
     "metadata": {
      "needs_background": "light"
     },
     "output_type": "display_data"
    }
   ],
   "source": [
    "import math\n",
    "from numpy import array                                                                                                                                                                                                                                                                                                                                                                                                                                                                                                                                                                                                                                                                                                                                                                                                                                                                                                                                                                                                                                                                                                       \n",
    "from numpy.linalg import inv\n",
    "import numpy as np\n",
    "import matplotlib.pyplot as plot\n",
    "import random\n",
    "from sklearn.linear_model import LinearRegression\n",
    "from sklearn.linear_model import Ridge\n",
    "\n",
    "# put your code here\n",
    "\n",
    "x=[]\n",
    "\n",
    "x2=[]\n",
    "x3=[]\n",
    "x4=[]\n",
    "x5=[]\n",
    "x6=[]\n",
    "\n",
    "\n",
    "\n",
    "for t in range(60,304,4):\n",
    "    x.append((t*3.14159265)/180)\n",
    "    \n",
    "# print(x)\n",
    "def powers(arr,power):\n",
    "    arr_out=[]\n",
    "    for x in range(len(arr)):\n",
    "        arr_out.append(math.pow(arr[x],power))\n",
    "    return arr_out\n",
    "def signs(arr):\n",
    "    arr_out=[]\n",
    "    for x in range(len(arr)):\n",
    "        arr_out.append(math.sin(arr[x]))\n",
    "    return arr_out\n",
    "\n",
    "\n",
    "x2=powers(x,2)\n",
    "x3=powers(x,3)\n",
    "x4=powers(x,4)\n",
    "x5=powers(x,5)\n",
    "x6=powers(x,6)\n",
    "x7=powers(x,7)\n",
    "x8=powers(x,8)\n",
    "x9=powers(x,9)\n",
    "x10=powers(x,10)\n",
    "x11=powers(x,11)\n",
    "x12=powers(x,12)\n",
    "x13=powers(x,13)\n",
    "x14=powers(x,14)\n",
    "x15=powers(x,15)\n",
    "x16=powers(x,16)\n",
    "x17=powers(x,17)\n",
    "x18=powers(x,18)\n",
    "x19=powers(x,19)\n",
    "x20=powers(x,20)\n",
    "x21=powers(x,21)\n",
    "x22=powers(x,22)\n",
    "x23=powers(x,23)\n",
    "x24=powers(x,24)\n",
    "x25=powers(x,25)\n",
    "x26=powers(x,26)\n",
    "x27=powers(x,27)\n",
    "x28=powers(x,28)\n",
    "x29=powers(x,29)\n",
    "x30=powers(x,30)\n",
    "x31=powers(x,31)\n",
    "# x2=signs(x)\n",
    "\n",
    "\n",
    "y=[]\n",
    "mu, sigma = 0, 0.15 # mean and standard deviation\n",
    "s = np.random.normal(mu, sigma, 1000)\n",
    "\n",
    "for u in range(len(x)):\n",
    "    y.append(math.sin(x[u])+s[u])\n",
    "# print(y)\n",
    "plot.scatter(x,y)\n",
    "\n",
    "xx=[]\n",
    "for v in range(len(x)):\n",
    "    xx.append([ x[v],x2[v],x3[v],x4[v],x5[v],x6[v],x7[v],x8[v],x9[v],x10[v],x11[v],x12[v],x13[v],x14[v],x15[v],x16[v]])\n",
    "reg = Ridge(alpha=1.0)    \n",
    "reg = LinearRegression().fit(xx, y)\n",
    "pred =reg.predict(xx)\n",
    "\n",
    "plot.scatter(x, y,  color='black')\n",
    "plot.plot(x, pred, color='blue', linewidth=3)\n",
    "\n",
    "# plt.xticks(())\n",
    "# plt.yticks(())\n",
    "\n",
    "# plt.show()\n",
    "\n",
    "\n",
    "\n",
    "\n",
    "\n",
    "    \n",
    "\n"
   ]
  },
  {
   "cell_type": "markdown",
   "metadata": {},
   "source": [
    "This illustrates the notion of bias variance tradeoff. Highly complex models will tend to fit even small deviations and hence will lead to a large variance. Simpler models on the other will have a large bias but will vary a little when changing the sample."
   ]
  },
  {
   "cell_type": "markdown",
   "metadata": {},
   "source": [
    "__2.1.4__ (Regularization) One approach at avoiding this is to select the number of terms in the regression model. However, it is not always clear how to select those terms. Another approach which is more flexible is to add a regularization term (i.e a term that will force the coefficient of the regression model to remain relatively small). The regularized problem reads as \n",
    "\n",
    "$$\\underset{\\beta}{\\operatorname{argmin}} \\|\\boldsymbol X\\boldsymbol \\beta - \\boldsymbol y\\|^2 + \\alpha R(\\boldsymbol \\beta)$$ \n",
    "\n",
    "For some function $R(\\boldsymbol \\beta)$. Here we choose $R(\\boldsymbol \\beta) = \\sqrt{\\sum_{i=1}^N \\beta_n^2}$ (the $\\ell_2$ norm).\n",
    "To see the effect of regularization, use the \"Ridge\" implementation from scikit-learn. Choose your dataset to be given by all powers of $x$ up to $16$. Then compute the ridge regression model using the function \"Ridge\" with different values for the multiplier $\\alpha$ (take for example $\\alpha = \\left\\{1e^{-14}, 1e^{-10}, 1e^{-4}, 1, 10\\right\\}$). plot the results"
   ]
  },
  {
   "cell_type": "markdown",
   "metadata": {},
   "source": [
    "### 2.2 Gradient descent "
   ]
  },
  {
   "cell_type": "markdown",
   "metadata": {},
   "source": [
    "__Exercise 2.2.1__ (Your first gradient descent algorithm). So far we have  either solved the regression problem directly using linalg, or using the implementation from scikit-learn. An alternative is to use a gradient descent on the function  \n",
    "\n",
    "$$\\underset{\\beta}{\\operatorname{argmin}}f(\\boldsymbol \\beta)\\equiv \\|\\boldsymbol X\\boldsymbol \\beta - \\boldsymbol y\\|^2 + \\alpha R(\\boldsymbol \\beta)$$ \n",
    "\n",
    "\n",
    "__2.2.1a__ write a function which computes the gradient of this objective for the points $(X,y)$, and takes as argument a vector of regession weights $\\boldsymbol \\beta$."
   ]
  },
  {
   "cell_type": "code",
   "execution_count": null,
   "metadata": {
    "collapsed": true
   },
   "outputs": [],
   "source": [
    "# put your code here"
   ]
  },
  {
   "cell_type": "markdown",
   "metadata": {},
   "source": [
    "__2.2.1b__ Given the function above, write a small code that starts from some (random) initialization of the vector of parameters $\\boldsymbol \\beta$ and update this vector with the gradient as\n",
    "\n",
    "$$\\beta_{k+1}\\leftarrow \\beta_k - \\alpha_k\\nabla f(\\beta_k)$$\n",
    "\n",
    "start by using a constant step size $\\alpha_k$. Then use a better update rule (see for example https://en.wikipedia.org/wiki/Gradient_descent#Description). When do you stop?"
   ]
  },
  {
   "cell_type": "markdown",
   "metadata": {},
   "source": [
    "### 2.3 Using regression as a predictive model"
   ]
  },
  {
   "cell_type": "markdown",
   "metadata": {},
   "source": [
    "__Exercise 2.3.1__ Now that you have spent some time on simple regression problems, we will want to use those models on real data. Use the code below to download the evolution of the Google Stock between january 2017 and may 2017 through yahoo finance. Here our 'X' data encodes a moving average and y is the stock price."
   ]
  },
  {
   "cell_type": "code",
   "execution_count": 43,
   "metadata": {},
   "outputs": [
    {
     "ename": "ModuleNotFoundError",
     "evalue": "No module named 'pandas_datareader'",
     "output_type": "error",
     "traceback": [
      "\u001b[1;31m---------------------------------------------------------------------------\u001b[0m",
      "\u001b[1;31mModuleNotFoundError\u001b[0m                       Traceback (most recent call last)",
      "\u001b[1;32m<ipython-input-43-d982eae74d23>\u001b[0m in \u001b[0;36m<module>\u001b[1;34m\u001b[0m\n\u001b[0;32m      3\u001b[0m \u001b[0mpd\u001b[0m\u001b[1;33m.\u001b[0m\u001b[0mcore\u001b[0m\u001b[1;33m.\u001b[0m\u001b[0mcommon\u001b[0m\u001b[1;33m.\u001b[0m\u001b[0mis_list_like\u001b[0m \u001b[1;33m=\u001b[0m \u001b[0mpd\u001b[0m\u001b[1;33m.\u001b[0m\u001b[0mapi\u001b[0m\u001b[1;33m.\u001b[0m\u001b[0mtypes\u001b[0m\u001b[1;33m.\u001b[0m\u001b[0mis_list_like\u001b[0m\u001b[1;33m\u001b[0m\u001b[1;33m\u001b[0m\u001b[0m\n\u001b[0;32m      4\u001b[0m \u001b[1;33m\u001b[0m\u001b[0m\n\u001b[1;32m----> 5\u001b[1;33m \u001b[1;32mfrom\u001b[0m \u001b[0mpandas_datareader\u001b[0m \u001b[1;32mimport\u001b[0m \u001b[0mdata\u001b[0m \u001b[1;32mas\u001b[0m \u001b[0mpdr\u001b[0m\u001b[1;33m\u001b[0m\u001b[1;33m\u001b[0m\u001b[0m\n\u001b[0m\u001b[0;32m      6\u001b[0m \u001b[1;33m\u001b[0m\u001b[0m\n\u001b[0;32m      7\u001b[0m \u001b[1;32mimport\u001b[0m \u001b[0mmatplotlib\u001b[0m\u001b[1;33m.\u001b[0m\u001b[0mpyplot\u001b[0m \u001b[1;32mas\u001b[0m \u001b[0mplt\u001b[0m\u001b[1;33m\u001b[0m\u001b[1;33m\u001b[0m\u001b[0m\n",
      "\u001b[1;31mModuleNotFoundError\u001b[0m: No module named 'pandas_datareader'"
     ]
    }
   ],
   "source": [
    "import pandas as pd\n",
    "import numpy as np\n",
    "pd.core.common.is_list_like = pd.api.types.is_list_like\n",
    "\n",
    "from pandas_datareader import data as pdr\n",
    "\n",
    "import matplotlib.pyplot as plt\n",
    "\n",
    "import fix_yahoo_finance as yf\n",
    "yf.pdr_override() # <== that's all it takes :-)\n",
    "\n",
    "# download dataframe\n",
    "data1 = pdr.get_data_yahoo(\"GOOGL\", start=\"2017-01-01\", end=\"2017-06-30\")\n",
    "close = data1['Close']\n",
    "all_weekdays = pd.date_range(start=\"2017-01-01\", end=\"2017-06-30\", freq='B')\n",
    "\n",
    "# How do we align the existing prices in adj_close with our new set of dates?\n",
    "# All we need to do is reindex close using all_weekdays as the new index\n",
    "close = close.reindex(all_weekdays)\n",
    "close = close.fillna(method='ffill')\n",
    "msft = close#.loc['SPY']\n",
    "\n",
    "# Calculate the 20 and 100 days moving averages of the closing prices\n",
    "short_rolling_msft = msft.rolling(window=20).mean()\n",
    "long_rolling_msft = msft.rolling(window=100).mean()\n",
    "\n",
    "msft = msft.dropna()\n",
    "#msft_norm = (msft - msft.mean()) / (msft.max() - msft.min())\n",
    "tmp = msft.index\n",
    "numDays = tmp.shape[0]\n",
    "\n",
    "days = np.arange(1,numDays+1)\n",
    "\n",
    "\n",
    "# Applying the regression model\n",
    "\n",
    "from sklearn.linear_model import LinearRegression\n",
    "\n",
    "print(X_train.transpose)\n",
    "print(y_train.values)\n",
    "\n",
    "print(X_train.shape)\n",
    "tmp = y_train.values\n",
    "print(tmp.shape)\n",
    "\n",
    "lr = LinearRegression().fit(X_train.reshape(-1,1),tmp.reshape(-1,1))\n",
    "\n",
    "pred = lr.predict(X_test.reshape(-1,1))\n",
    "\n",
    "\n",
    "# #training a linear prediction model\n",
    "\n",
    "\n",
    "#fig, axes = plt.subplots(nrows=1, ncols=2)\n",
    "fig, axes = plt.subplots(nrows=1, ncols=1)\n",
    "#fig, ax = plt.subplots(figsize=(8,5))\n",
    "plt.plot(days, msft, label='GOOGL')\n",
    "#axes[0,0].plot(X_train.reshape(-1,1), tmp.reshape(-1,1), label='training')\n",
    "plt.xlabel('Date')\n",
    "plt.ylabel('Adjusted closing price ($)')\n",
    "plt.legend()\n",
    "plt.title('Google stock value')\n",
    "\n",
    "fig.tight_layout() \n",
    "\n",
    "plt.show()\n"
   ]
  },
  {
   "cell_type": "markdown",
   "metadata": {},
   "source": [
    "__Exercise 2.3.2__ Learn a regression a model that takes as input the current msft from the previous ten msft. (you can use scikit-learn)"
   ]
  },
  {
   "cell_type": "markdown",
   "metadata": {},
   "source": [
    "__Exercise 2.3.3__ Same question with a different prediction horizon (lets say 5 days) still using the previous 5 days. Add all monomials of up to degree $4$ (inclduing cross terms)"
   ]
  },
  {
   "cell_type": "markdown",
   "metadata": {},
   "source": [
    "__Exercise 2.3.4__ For both __2.3.2__ and __2.3.3__, evaluate the quality of your prediction by splitting the time series into a subseries that you use for training and another one that you use to test the model."
   ]
  },
  {
   "cell_type": "markdown",
   "metadata": {},
   "source": [
    "### 2.4 Finding correlation in data"
   ]
  },
  {
   "cell_type": "markdown",
   "metadata": {},
   "source": [
    "__Exercise 2.4.1__ Using the snippet below, download the evolution of the NIKKEI 225 and the S&P 500 between November 2012 and November 2013. Plot the graph $(X_1,X_2)$ for $X_1$ = NIKKEI and $X_2$ = S&P. What can you see ? \n",
    "\n",
    "Learn a regression model of the form $X_2 = \\beta_0 + \\beta_1 X_1$\n"
   ]
  },
  {
   "cell_type": "code",
   "execution_count": null,
   "metadata": {
    "collapsed": true
   },
   "outputs": [],
   "source": [
    "# put your code here\n",
    "\n"
   ]
  },
  {
   "cell_type": "markdown",
   "metadata": {},
   "source": [
    "## 3. Linear Classification"
   ]
  },
  {
   "cell_type": "markdown",
   "metadata": {},
   "source": [
    "__3.1__ There are several possibilities to define a classifier. One is to use the regression model to define a separating plane. Scikit-learn has an interesting built in function, \"make_blobs\" that generates datasets. Starting with the two classes dataset below, compute a separating plane using $0/1$ labels for the two classes. Before computing the plane, do not forget to split your dataset between a training and a test set. Learn the plane from the training set and then benchmark your model on the points from the test set."
   ]
  },
  {
   "cell_type": "code",
   "execution_count": 82,
   "metadata": {},
   "outputs": [
    {
     "ename": "ValueError",
     "evalue": "Expected 2D array, got 1D array instead:\narray=[1.04719755 1.11701072 1.18682389 1.25663706 1.32645023 1.3962634\n 1.46607657 1.53588974 1.60570291 1.67551608 1.74532925 1.81514242\n 1.88495559 1.95476876 2.02458193 2.0943951  2.16420827 2.23402144\n 2.30383461 2.37364778 2.44346095 2.51327412 2.58308729 2.65290046\n 2.72271363 2.7925268  2.86233997 2.93215314 3.00196631 3.07177948\n 3.14159265 3.21140582 3.28121899 3.35103216 3.42084533 3.4906585\n 3.56047167 3.63028484 3.70009801 3.76991118 3.83972435 3.90953752\n 3.97935069 4.04916386 4.11897703 4.1887902  4.25860337 4.32841654\n 4.39822971 4.46804288 4.53785605 4.60766922 4.67748239 4.74729556\n 4.81710873 4.8869219  4.95673507 5.02654824 5.09636141 5.16617458\n 5.23598775].\nReshape your data either using array.reshape(-1, 1) if your data has a single feature or array.reshape(1, -1) if it contains a single sample.",
     "output_type": "error",
     "traceback": [
      "\u001b[1;31m---------------------------------------------------------------------------\u001b[0m",
      "\u001b[1;31mValueError\u001b[0m                                Traceback (most recent call last)",
      "\u001b[1;32m<ipython-input-82-69fe6ae7ac29>\u001b[0m in \u001b[0;36m<module>\u001b[1;34m\u001b[0m\n\u001b[0;32m      9\u001b[0m                 alpha=0.5, edgecolor='k')\n\u001b[0;32m     10\u001b[0m \u001b[1;33m\u001b[0m\u001b[0m\n\u001b[1;32m---> 11\u001b[1;33m \u001b[0mreg\u001b[0m \u001b[1;33m=\u001b[0m \u001b[0mLinearRegression\u001b[0m\u001b[1;33m(\u001b[0m\u001b[1;33m)\u001b[0m\u001b[1;33m.\u001b[0m\u001b[0mfit\u001b[0m\u001b[1;33m(\u001b[0m\u001b[0mx\u001b[0m\u001b[1;33m,\u001b[0m \u001b[0my\u001b[0m\u001b[1;33m)\u001b[0m\u001b[1;33m\u001b[0m\u001b[1;33m\u001b[0m\u001b[0m\n\u001b[0m\u001b[0;32m     12\u001b[0m \u001b[1;31m# pred =reg.predict(x)\u001b[0m\u001b[1;33m\u001b[0m\u001b[1;33m\u001b[0m\u001b[1;33m\u001b[0m\u001b[0m\n\u001b[0;32m     13\u001b[0m \u001b[1;33m\u001b[0m\u001b[0m\n",
      "\u001b[1;32m~\\Anaconda3\\lib\\site-packages\\sklearn\\linear_model\\base.py\u001b[0m in \u001b[0;36mfit\u001b[1;34m(self, X, y, sample_weight)\u001b[0m\n\u001b[0;32m    456\u001b[0m         \u001b[0mn_jobs_\u001b[0m \u001b[1;33m=\u001b[0m \u001b[0mself\u001b[0m\u001b[1;33m.\u001b[0m\u001b[0mn_jobs\u001b[0m\u001b[1;33m\u001b[0m\u001b[1;33m\u001b[0m\u001b[0m\n\u001b[0;32m    457\u001b[0m         X, y = check_X_y(X, y, accept_sparse=['csr', 'csc', 'coo'],\n\u001b[1;32m--> 458\u001b[1;33m                          y_numeric=True, multi_output=True)\n\u001b[0m\u001b[0;32m    459\u001b[0m \u001b[1;33m\u001b[0m\u001b[0m\n\u001b[0;32m    460\u001b[0m         \u001b[1;32mif\u001b[0m \u001b[0msample_weight\u001b[0m \u001b[1;32mis\u001b[0m \u001b[1;32mnot\u001b[0m \u001b[1;32mNone\u001b[0m \u001b[1;32mand\u001b[0m \u001b[0mnp\u001b[0m\u001b[1;33m.\u001b[0m\u001b[0matleast_1d\u001b[0m\u001b[1;33m(\u001b[0m\u001b[0msample_weight\u001b[0m\u001b[1;33m)\u001b[0m\u001b[1;33m.\u001b[0m\u001b[0mndim\u001b[0m \u001b[1;33m>\u001b[0m \u001b[1;36m1\u001b[0m\u001b[1;33m:\u001b[0m\u001b[1;33m\u001b[0m\u001b[1;33m\u001b[0m\u001b[0m\n",
      "\u001b[1;32m~\\Anaconda3\\lib\\site-packages\\sklearn\\utils\\validation.py\u001b[0m in \u001b[0;36mcheck_X_y\u001b[1;34m(X, y, accept_sparse, accept_large_sparse, dtype, order, copy, force_all_finite, ensure_2d, allow_nd, multi_output, ensure_min_samples, ensure_min_features, y_numeric, warn_on_dtype, estimator)\u001b[0m\n\u001b[0;32m    754\u001b[0m                     \u001b[0mensure_min_features\u001b[0m\u001b[1;33m=\u001b[0m\u001b[0mensure_min_features\u001b[0m\u001b[1;33m,\u001b[0m\u001b[1;33m\u001b[0m\u001b[1;33m\u001b[0m\u001b[0m\n\u001b[0;32m    755\u001b[0m                     \u001b[0mwarn_on_dtype\u001b[0m\u001b[1;33m=\u001b[0m\u001b[0mwarn_on_dtype\u001b[0m\u001b[1;33m,\u001b[0m\u001b[1;33m\u001b[0m\u001b[1;33m\u001b[0m\u001b[0m\n\u001b[1;32m--> 756\u001b[1;33m                     estimator=estimator)\n\u001b[0m\u001b[0;32m    757\u001b[0m     \u001b[1;32mif\u001b[0m \u001b[0mmulti_output\u001b[0m\u001b[1;33m:\u001b[0m\u001b[1;33m\u001b[0m\u001b[1;33m\u001b[0m\u001b[0m\n\u001b[0;32m    758\u001b[0m         y = check_array(y, 'csr', force_all_finite=True, ensure_2d=False,\n",
      "\u001b[1;32m~\\Anaconda3\\lib\\site-packages\\sklearn\\utils\\validation.py\u001b[0m in \u001b[0;36mcheck_array\u001b[1;34m(array, accept_sparse, accept_large_sparse, dtype, order, copy, force_all_finite, ensure_2d, allow_nd, ensure_min_samples, ensure_min_features, warn_on_dtype, estimator)\u001b[0m\n\u001b[0;32m    550\u001b[0m                     \u001b[1;34m\"Reshape your data either using array.reshape(-1, 1) if \"\u001b[0m\u001b[1;33m\u001b[0m\u001b[1;33m\u001b[0m\u001b[0m\n\u001b[0;32m    551\u001b[0m                     \u001b[1;34m\"your data has a single feature or array.reshape(1, -1) \"\u001b[0m\u001b[1;33m\u001b[0m\u001b[1;33m\u001b[0m\u001b[0m\n\u001b[1;32m--> 552\u001b[1;33m                     \"if it contains a single sample.\".format(array))\n\u001b[0m\u001b[0;32m    553\u001b[0m \u001b[1;33m\u001b[0m\u001b[0m\n\u001b[0;32m    554\u001b[0m         \u001b[1;31m# in the future np.flexible dtypes will be handled like object dtypes\u001b[0m\u001b[1;33m\u001b[0m\u001b[1;33m\u001b[0m\u001b[1;33m\u001b[0m\u001b[0m\n",
      "\u001b[1;31mValueError\u001b[0m: Expected 2D array, got 1D array instead:\narray=[1.04719755 1.11701072 1.18682389 1.25663706 1.32645023 1.3962634\n 1.46607657 1.53588974 1.60570291 1.67551608 1.74532925 1.81514242\n 1.88495559 1.95476876 2.02458193 2.0943951  2.16420827 2.23402144\n 2.30383461 2.37364778 2.44346095 2.51327412 2.58308729 2.65290046\n 2.72271363 2.7925268  2.86233997 2.93215314 3.00196631 3.07177948\n 3.14159265 3.21140582 3.28121899 3.35103216 3.42084533 3.4906585\n 3.56047167 3.63028484 3.70009801 3.76991118 3.83972435 3.90953752\n 3.97935069 4.04916386 4.11897703 4.1887902  4.25860337 4.32841654\n 4.39822971 4.46804288 4.53785605 4.60766922 4.67748239 4.74729556\n 4.81710873 4.8869219  4.95673507 5.02654824 5.09636141 5.16617458\n 5.23598775].\nReshape your data either using array.reshape(-1, 1) if your data has a single feature or array.reshape(1, -1) if it contains a single sample."
     ]
    },
    {
     "data": {
      "image/png": "[encoded data removed]",
      "text/plain": [
       "<Figure size 432x288 with 1 Axes>"
      ]
     },
     "metadata": {
      "needs_background": "light"
     },
     "output_type": "display_data"
    }
   ],
   "source": [
    "from sklearn.datasets.samples_generator import make_blobs\n",
    "import matplotlib.pyplot as plt\n",
    "from sklearn import svm\n",
    "\n",
    "X, y = make_blobs(n_samples=200, centers=2, n_features=2,cluster_std=0.7, random_state=0)\n",
    "# clf = svm.SVC(gamma='scale')\n",
    "# clf.fit(X, y)\n",
    "plt.scatter(X[:, 0], X[:, 1], c=y,\n",
    "                alpha=0.5, edgecolor='k')\n",
    "\n",
    "reg = LinearRegression().fit(x, y)\n",
    "# pred =reg.predict(x)\n",
    "\n",
    "\n",
    "# plt.plot(clf)\n",
    "# print(y)\n",
    "print(clf)\n",
    "# put your code here\n",
    "\n"
   ]
  },
  {
   "cell_type": "markdown",
   "metadata": {},
   "source": [
    "__3.2__ When there are multiple classes, the problem becomes a little more tricky. There are however several possibilities to extend the two classes classifier. One is to view the set of clusters as a set of 1 clusters versus all the others (1 vs rest). The other is to try to find a set of pairwise boundaries (1 vs 1). In the first case. The class of a new point is then determined based on the comparison of the outputs from the different separating planes\n",
    "\n",
    "Implement both methods on  the $4$ classes data set below. Again first split your dataset between a training and a test part (for example using the function train_test_split from scikit-learn)."
   ]
  },
  {
   "cell_type": "code",
   "execution_count": null,
   "metadata": {
    "collapsed": true
   },
   "outputs": [],
   "source": [
    "# put your code here\n",
    "\n",
    "\n"
   ]
  },
  {
   "cell_type": "markdown",
   "metadata": {},
   "source": [
    "__3.3__ The issue with the one vs one or one vs rest classifiers is that they sometimes leave undefined areas in space. A better alternative is to introduced dummy variables. I.e we now consider a vector of labels $\\boldsymbol y$, where the entry $k$ corresponds to a binary variable encoding whether a point $\\boldsymbol x$ belongs to the $k^{th}$ class (1) or not. Obviously if there is a one somewhere all the other entries are $0$. For such a model, we can learn $K$ regression planes simultaneously by solving the system\n",
    "$$\\hat{\\boldsymbol Y} = \\boldsymbol X\\boldsymbol B$$\n",
    "\n",
    "The rows of $\\boldsymbol Y$ are $N$ $0/1$ vectors with a single $1$, the rows of $\\boldsymbol X$ encode the $N$ $p$-dimensional prototypes + the column of $1$ for the intercept.  The regression model from above then becomes\n",
    "\n",
    "$$\\min_{\\boldsymbol B} \\sum_{i=1}^N \\|\\boldsymbol y_i - [1,\\boldsymbol x_i]\\boldsymbol B\\|^2$$\n",
    "\n",
    "$y_i$ is the binary vector. Write this system in matrix equation and solve it with linalg as above and solve the multi class classification problem on the dataset below."
   ]
  },
  {
   "cell_type": "code",
   "execution_count": 52,
   "metadata": {},
   "outputs": [
    {
     "data": {
      "image/png": "[encoded data removed]",
      "text/plain": [
       "<matplotlib.figure.Figure at 0x1a22022dd0>"
      ]
     },
     "metadata": {},
     "output_type": "display_data"
    }
   ],
   "source": [
    "from sklearn.datasets.samples_generator import make_blobs\n",
    "X, y = make_blobs(n_samples=200, centers=4, n_features=2,cluster_std=0.7, random_state=0)\n",
    "\n",
    "plt.scatter(X[:, 0], X[:, 1], c=y,\n",
    "                alpha=0.5, edgecolor='k')\n",
    "plt.show()\n"
   ]
  },
  {
   "cell_type": "code",
   "execution_count": null,
   "metadata": {
    "collapsed": true
   },
   "outputs": [],
   "source": [
    "\n",
    "\n",
    "# put your code here\n"
   ]
  }
 ],
 "metadata": {
  "kernelspec": {
   "display_name": "Python 3",
   "language": "python",
   "name": "python3"
  },
  "language_info": {
   "codemirror_mode": {
    "name": "ipython",
    "version": 3
   },
   "file_extension": ".py",
   "mimetype": "text/x-python",
   "name": "python",
   "nbconvert_exporter": "python",
   "pygments_lexer": "ipython3",
   "version": "3.7.1"
  }
 },
 "nbformat": 4,
 "nbformat_minor": 2
}
